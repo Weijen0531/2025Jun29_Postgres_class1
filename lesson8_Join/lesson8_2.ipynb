{
 "cells": [
  {
   "cell_type": "code",
   "execution_count": 4,
   "id": "b22d81e0",
   "metadata": {},
   "outputs": [
    {
     "name": "stdout",
     "output_type": "stream",
     "text": [
      "\n",
      "SELECT \"stationCode\",name,\"stationAddrTw\",日期,進站人數,出站人數\n",
      "FROM \"台鐵車站資訊\" RIGHT JOIN \"每日各站進出人數\" ON \"stationCode\" = \"車站代碼\"\n",
      "where name LIKE '%臺北％';\n",
      "\n"
     ]
    }
   ],
   "source": [
    "sql = '''\n",
    "SELECT \"stationCode\",name,\"stationAddrTw\",日期,進站人數,出站人數\n",
    "FROM \"台鐵車站資訊\" RIGHT JOIN \"每日各站進出人數\" ON \"stationCode\" = \"車站代碼\"\n",
    "where name LIKE '%臺北％';\n",
    "'''\n",
    "#!/usr/bin/env python3\n",
    "\n",
    "print(sql)"
   ]
  },
  {
   "cell_type": "code",
   "execution_count": 9,
   "id": "1b1ff940",
   "metadata": {},
   "outputs": [
    {
     "ename": "SyntaxError",
     "evalue": "invalid syntax (502164295.py, line 4)",
     "output_type": "error",
     "traceback": [
      "\u001b[0;36m  Cell \u001b[0;32mIn[9], line 4\u001b[0;36m\u001b[0m\n\u001b[0;31m    print('a='type(a), 'b='type(b), 'ç='type(c))\u001b[0m\n\u001b[0m              ^\u001b[0m\n\u001b[0;31mSyntaxError\u001b[0m\u001b[0;31m:\u001b[0m invalid syntax\n"
     ]
    }
   ],
   "source": [
    "a = 5\n",
    "b = '5'\n",
    "c = 5.0\n",
    "print('a='type(a), 'b='type(b), 'ç='type(c))"
   ]
  },
  {
   "cell_type": "code",
   "execution_count": 19,
   "id": "5fb04961",
   "metadata": {},
   "outputs": [
    {
     "name": "stdout",
     "output_type": "stream",
     "text": [
      "(87, 76, 65, 78, 92)\n",
      "87 76\n"
     ]
    }
   ],
   "source": [
    "#建立tuple\n",
    "student1 = (87, 76, 65, 78, 92)\n",
    "student1\n",
    "type(student1)\n",
    "#(m, n) = student1\n",
    "m= student1[0]\n",
    "n= student1[1]\n",
    "print(student1)\n",
    "print(m, n)"
   ]
  },
  {
   "cell_type": "code",
   "execution_count": 13,
   "id": "08a2ec6d",
   "metadata": {},
   "outputs": [
    {
     "data": {
      "text/plain": [
       "list"
      ]
     },
     "execution_count": 13,
     "metadata": {},
     "output_type": "execute_result"
    }
   ],
   "source": [
    "#建立list\n",
    "student2 = [87, 76, 65, 78, 92]\n",
    "student2\n",
    "type(student2)\n",
    "\n"
   ]
  },
  {
   "cell_type": "code",
   "execution_count": 12,
   "id": "cdf052e9",
   "metadata": {},
   "outputs": [
    {
     "data": {
      "text/plain": [
       "92"
      ]
     },
     "execution_count": 12,
     "metadata": {},
     "output_type": "execute_result"
    }
   ],
   "source": [
    "#使用subscript取出元素值\n",
    "student2[0]\n",
    "student2[1]\n",
    "student2[2]\n",
    "student2[3]\n",
    "student2[4]\n",
    "#student2[5] # 超出索引會出錯"
   ]
  },
  {
   "cell_type": "code",
   "execution_count": 23,
   "id": "b69215bd",
   "metadata": {},
   "outputs": [
    {
     "name": "stdout",
     "output_type": "stream",
     "text": [
      "小明\n",
      "小華\n",
      "小美\n"
     ]
    }
   ],
   "source": [
    "#建立list\n",
    "student2 = [87, 76, 65, 78, 92]\n",
    "student3 = [88, 77, 66, 79, 93]\n",
    "student4 = [89, 78, 67, 80, 94]\n",
    "\n",
    "#建立dictionary\n",
    "student4 = {'name' : '小明', 'birthday' :'2000-01-01', 'sex': 'M', 'score': [87, 76, 65, 78, 92]}\n",
    "student5 = {'name' : '小華', 'birthday' :'2000-02-02', 'sex': 'F', 'score': [88, 77, 66, 79, 93]}\n",
    "student6 = {'name' : '小美', 'birthday' :'2000-03-04', 'sex': 'F', 'score': [89, 78, 67, 80, 94]}\n",
    "students = [student4, student5, student6]\n",
    "print(students[0]['name'])\n",
    "print(students[1]['name'])\n",
    "print(students[2]['name'])"
   ]
  },
  {
   "cell_type": "code",
   "execution_count": 31,
   "id": "a3eef327",
   "metadata": {},
   "outputs": [
    {
     "name": "stdout",
     "output_type": "stream",
     "text": [
      "[1, 12, 3, 4, 5, 12, 6]\n",
      "[1, 10, 12, 3, 4, 5, 12, 6]\n",
      "[1, 10, 3, 4, 5, 12, 6]\n",
      "[1, 10, 3, 4, 5, 12]\n",
      "[1, 3, 4, 5, 10, 12]\n",
      "[12, 10, 5, 4, 3, 1]\n"
     ]
    }
   ],
   "source": [
    "#建立list \n",
    "my_list = [1, 12, 3, 4, 5, 12]\n",
    "my_list.append(6)  # 在list末尾添加元素\n",
    "print(my_list)\n",
    "my_list.insert(1, 10)  # 在list 第1位址插入元素10\n",
    "print(my_list)\n",
    "my_list.remove(12)  # 移除list中的元素3\n",
    "print(my_list)\n",
    "my_list.pop()  # 移除list末尾的元素\n",
    "print(my_list)\n",
    "my_list.sort()  # 對list進行排序\n",
    "print(my_list)\n",
    "my_list.reverse()  # 對list進行反轉\n",
    "print(my_list)"
   ]
  },
  {
   "cell_type": "code",
   "execution_count": 43,
   "id": "c8e96c0d",
   "metadata": {},
   "outputs": [
    {
     "name": "stdout",
     "output_type": "stream",
     "text": [
      "12 10 5 4 3 1 \n",
      "i= A\n",
      "i= P\n",
      "i= P\n",
      "i= L\n",
      "i= E\n"
     ]
    }
   ],
   "source": [
    "for i in my_list:\n",
    "    print(i, end=' ')\n",
    "print()  # 換行\n",
    "for i in \"APPLE\":\n",
    "    print(\"i=\",i)"
   ]
  },
  {
   "cell_type": "code",
   "execution_count": 48,
   "id": "34ae82b8",
   "metadata": {},
   "outputs": [
    {
     "name": "stdout",
     "output_type": "stream",
     "text": [
      "TW Taiwan\n",
      "JP Japan\n",
      "US United States\n",
      "CN China\n",
      "KR South Korea\n",
      "\n",
      "Taiwan\n",
      "Japan\n",
      "United States\n",
      "China\n",
      "South Korea\n"
     ]
    }
   ],
   "source": [
    "# 建立dictionary\n",
    "world_dict = {\n",
    "    'TW': 'Taiwan',\n",
    "    'JP': 'Japan',\n",
    "    'US': 'United States',\n",
    "    'CN': 'China',\n",
    "    'KR': 'South Korea'\n",
    "}\n",
    "# 列印dictionary的key和value\n",
    "for key in world_dict.keys():\n",
    "    print(key, world_dict[key])\n",
    "print()\n",
    "for value in world_dict.values():\n",
    "    print(value, )\n",
    "\n"
   ]
  },
  {
   "cell_type": "code",
   "execution_count": null,
   "id": "e343f8cc",
   "metadata": {},
   "outputs": [
    {
     "name": "stdout",
     "output_type": "stream",
     "text": [
      "('TW', 'Taiwan')\n",
      "('JP', 'Japan')\n",
      "('US', 'United States')\n",
      "('CN', 'China')\n",
      "('KR', 'South Korea')\n"
     ]
    }
   ],
   "source": [
    "for i in world_dict.items():\n",
    "    print(i)"
   ]
  },
  {
   "cell_type": "code",
   "execution_count": 54,
   "id": "bec40516",
   "metadata": {},
   "outputs": [
    {
     "name": "stdout",
     "output_type": "stream",
     "text": [
      "key= TW , value= Taiwan\n",
      "key= JP , value= Japan\n",
      "key= US , value= United States\n",
      "key= CN , value= China\n",
      "key= KR , value= South Korea\n"
     ]
    }
   ],
   "source": [
    "\n",
    "for key,value in world_dict.items():\n",
    "    print(\"key=\",key, \", value=\",value)"
   ]
  },
  {
   "cell_type": "code",
   "execution_count": null,
   "id": "da61a35a",
   "metadata": {},
   "outputs": [],
   "source": []
  }
 ],
 "metadata": {
  "kernelspec": {
   "display_name": "Python 3",
   "language": "python",
   "name": "python3"
  },
  "language_info": {
   "codemirror_mode": {
    "name": "ipython",
    "version": 3
   },
   "file_extension": ".py",
   "mimetype": "text/x-python",
   "name": "python",
   "nbconvert_exporter": "python",
   "pygments_lexer": "ipython3",
   "version": "3.9.6"
  }
 },
 "nbformat": 4,
 "nbformat_minor": 5
}

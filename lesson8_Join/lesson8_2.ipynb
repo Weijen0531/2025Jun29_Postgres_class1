{
 "cells": [
  {
   "cell_type": "code",
   "execution_count": 4,
   "id": "b22d81e0",
   "metadata": {},
   "outputs": [
    {
     "name": "stdout",
     "output_type": "stream",
     "text": [
      "\n",
      "SELECT \"stationCode\",name,\"stationAddrTw\",日期,進站人數,出站人數\n",
      "FROM \"台鐵車站資訊\" RIGHT JOIN \"每日各站進出人數\" ON \"stationCode\" = \"車站代碼\"\n",
      "where name LIKE '%臺北％';\n",
      "\n"
     ]
    }
   ],
   "source": [
    "sql = '''\n",
    "SELECT \"stationCode\",name,\"stationAddrTw\",日期,進站人數,出站人數\n",
    "FROM \"台鐵車站資訊\" RIGHT JOIN \"每日各站進出人數\" ON \"stationCode\" = \"車站代碼\"\n",
    "where name LIKE '%臺北％';\n",
    "'''\n",
    "#!/usr/bin/env python3\n",
    "\n",
    "print(sql)"
   ]
  },
  {
   "cell_type": "code",
   "execution_count": 9,
   "id": "1b1ff940",
   "metadata": {},
   "outputs": [
    {
     "ename": "SyntaxError",
     "evalue": "invalid syntax (502164295.py, line 4)",
     "output_type": "error",
     "traceback": [
      "\u001b[0;36m  Cell \u001b[0;32mIn[9], line 4\u001b[0;36m\u001b[0m\n\u001b[0;31m    print('a='type(a), 'b='type(b), 'ç='type(c))\u001b[0m\n\u001b[0m              ^\u001b[0m\n\u001b[0;31mSyntaxError\u001b[0m\u001b[0;31m:\u001b[0m invalid syntax\n"
     ]
    }
   ],
   "source": [
    "a = 5\n",
    "b = '5'\n",
    "c = 5.0\n",
    "print('a='type(a), 'b='type(b), 'ç='type(c))"
   ]
  },
  {
   "cell_type": "code",
   "execution_count": 19,
   "id": "5fb04961",
   "metadata": {},
   "outputs": [
    {
     "name": "stdout",
     "output_type": "stream",
     "text": [
      "(87, 76, 65, 78, 92)\n",
      "87 76\n"
     ]
    }
   ],
   "source": [
    "#建立tuple\n",
    "student1 = (87, 76, 65, 78, 92)\n",
    "student1\n",
    "type(student1)\n",
    "#(m, n) = student1\n",
    "m= student1[0]\n",
    "n= student1[1]\n",
    "print(student1)\n",
    "print(m, n)"
   ]
  },
  {
   "cell_type": "code",
   "execution_count": 13,
   "id": "08a2ec6d",
   "metadata": {},
   "outputs": [
    {
     "data": {
      "text/plain": [
       "list"
      ]
     },
     "execution_count": 13,
     "metadata": {},
     "output_type": "execute_result"
    }
   ],
   "source": [
    "#建立list\n",
    "student2 = [87, 76, 65, 78, 92]\n",
    "student2\n",
    "type(student2)\n",
    "\n"
   ]
  },
  {
   "cell_type": "code",
   "execution_count": 12,
   "id": "cdf052e9",
   "metadata": {},
   "outputs": [
    {
     "data": {
      "text/plain": [
       "92"
      ]
     },
     "execution_count": 12,
     "metadata": {},
     "output_type": "execute_result"
    }
   ],
   "source": [
    "#使用subscript取出元素值\n",
    "student2[0]\n",
    "student2[1]\n",
    "student2[2]\n",
    "student2[3]\n",
    "student2[4]\n",
    "#student2[5] # 超出索引會出錯"
   ]
  },
  {
   "cell_type": "code",
   "execution_count": 23,
   "id": "b69215bd",
   "metadata": {},
   "outputs": [
    {
     "name": "stdout",
     "output_type": "stream",
     "text": [
      "小明\n",
      "小華\n",
      "小美\n"
     ]
    }
   ],
   "source": [
    "#建立list\n",
    "student2 = [87, 76, 65, 78, 92]\n",
    "student3 = [88, 77, 66, 79, 93]\n",
    "student4 = [89, 78, 67, 80, 94]\n",
    "\n",
    "#建立dictionary\n",
    "student4 = {'name' : '小明', 'birthday' :'2000-01-01', 'sex': 'M', 'score': [87, 76, 65, 78, 92]}\n",
    "student5 = {'name' : '小華', 'birthday' :'2000-02-02', 'sex': 'F', 'score': [88, 77, 66, 79, 93]}\n",
    "student6 = {'name' : '小美', 'birthday' :'2000-03-04', 'sex': 'F', 'score': [89, 78, 67, 80, 94]}\n",
    "students = [student4, student5, student6]\n",
    "print(students[0]['name'])\n",
    "print(students[1]['name'])\n",
    "print(students[2]['name'])"
   ]
  },
  {
   "cell_type": "code",
   "execution_count": null,
   "id": "a3eef327",
   "metadata": {},
   "outputs": [],
   "source": []
  }
 ],
 "metadata": {
  "kernelspec": {
   "display_name": "Python 3",
   "language": "python",
   "name": "python3"
  },
  "language_info": {
   "codemirror_mode": {
    "name": "ipython",
    "version": 3
   },
   "file_extension": ".py",
   "mimetype": "text/x-python",
   "name": "python",
   "nbconvert_exporter": "python",
   "pygments_lexer": "ipython3",
   "version": "3.9.6"
  }
 },
 "nbformat": 4,
 "nbformat_minor": 5
}

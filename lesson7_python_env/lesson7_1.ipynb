{
 "cells": [
  {
   "cell_type": "markdown",
   "id": "c0b937d5",
   "metadata": {},
   "source": []
  },
  {
   "cell_type": "code",
   "execution_count": null,
   "id": "deea1e80",
   "metadata": {},
   "outputs": [
    {
     "name": "stdout",
     "output_type": "stream",
     "text": [
      "Hello ! World\n"
     ]
    }
   ],
   "source": [
    "print(\"Hello ! World\")\n",
    "# integer (int)\n",
    "# float (float)\n",
    "# string (str)\n",
    "# boolean (bool)\n",
    "# list (list)\n",
    "# tuple (tuple)\n",
    "# dictionary (dict)\n",
    "# set (set)\n",
    "# None (NoneType)\n",
    "# complex (complex)\n",
    "# bytes (bytes)"
   ]
  },
  {
   "cell_type": "code",
   "execution_count": 2,
   "id": "8372e179",
   "metadata": {},
   "outputs": [
    {
     "name": "stdout",
     "output_type": "stream",
     "text": [
      "SELECT \"stationCode\",\"stationName\",\"stationAddrTw\"\n",
      "FROM \"台鐵車站資訊\"\n",
      "WHERE \"stationAddrTw\" LIKE '%基隆市%';\n"
     ]
    }
   ],
   "source": [
    "print(\"SELECT \\\"stationCode\\\",\\\"stationName\\\",\\\"stationAddrTw\\\"\\nFROM \\\"台鐵車站資訊\\\"\\nWHERE \\\"stationAddrTw\\\" LIKE \\'%基隆市%\\';\")"
   ]
  },
  {
   "cell_type": "code",
   "execution_count": null,
   "metadata": {},
   "outputs": [
    {
     "name": "stdout",
     "output_type": "stream",
     "text": [
      "SELECT \"stationCode\",\"stationName\",\"stationAddrTw\"\n",
      "FROM \"台鐵車站資訊\"\n",
      "WHERE \"stationAddrTw\" LIKE '%基隆市%';\n"
     ]
    }
   ],
   "source": [
    "## print(\"\"\" context withot \\n and \\\" for commment sumbolic \" \"\"\")\n",
    "## when we write SQL query in Python, we can use triple quotes to avoid using \\n and \\\" for comments\n",
    "print(\"\"\"SELECT \"stationCode\",\"stationName\",\"stationAddrTw\"\n",
    "FROM \"台鐵車站資訊\"\n",
    "WHERE \"stationAddrTw\" LIKE \\'%基隆市%\\';\"\"\")\n"
   ]
  },
  {
   "cell_type": "code",
   "execution_count": null,
   "id": "b2a6327e",
   "metadata": {},
   "outputs": [],
   "source": []
  }
 ],
 "metadata": {
  "kernelspec": {
   "display_name": "pydev",
   "language": "python",
   "name": "python3"
  },
  "language_info": {
   "codemirror_mode": {
    "name": "ipython",
    "version": 3
   },
   "file_extension": ".py",
   "mimetype": "text/x-python",
   "name": "python",
   "nbconvert_exporter": "python",
   "pygments_lexer": "ipython3",
   "version": "3.10.18"
  }
 },
 "nbformat": 4,
 "nbformat_minor": 5
}

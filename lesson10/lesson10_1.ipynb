{
 "cells": [
  {
   "cell_type": "code",
   "execution_count": null,
   "id": "552fe7c7",
   "metadata": {
    "vscode": {
     "languageId": "plaintext"
    }
   },
   "outputs": [],
   "source": [
    "import source\n",
    "\n",
    "def main():\n",
    "    results = source.get_stations_names()\n",
    "    if results:\n",
    "        for station in results:\n",
    "            print(station)\n",
    "    else:\n",
    "        print(\"無法取得車站資料\")\n",
    "\n",
    "if __name__ == \"__main__\":\n",
    "    main()"
   ]
  }
 ],
 "metadata": {
  "language_info": {
   "name": "python"
  }
 },
 "nbformat": 4,
 "nbformat_minor": 5
}

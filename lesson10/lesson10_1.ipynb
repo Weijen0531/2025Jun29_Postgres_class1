{
 "cells": [
  {
   "cell_type": "code",
   "execution_count": null,
   "id": "2054545d",
   "metadata": {},
   "outputs": [],
   "source": [
    "# Plese build a function to connect to PostgreSQL database\n",
    "# Please build a model of environomet variables\n",
    "\n",
    "import psycopg2\n",
    "import os\n",
    "\n",
    "def execute_query(conn, query):\n",
    "    \"\"\"執行 SQL 查詢\"\"\"\n",
    "    try:\n",
    "        with conn.cursor() as cursor:\n",
    "            cursor.execute(query)\n",
    "            result = cursor.fetchall()\n",
    "            return result\n",
    "    except psycopg2.Error as e:\n",
    "        print(f\"執行查詢時發生錯誤: {e}\")\n",
    "        return None\n",
    "\n",
    "def create_connection():\n",
    "    conn = psycopg2.connect(\n",
    "        host=\"host.docker.internal\",\n",
    "        database=\"postgres\",\n",
    "        user=\"postgres\",\n",
    "        password=\"raspberry\",\n",
    "        port=\"5432\"\n",
    "    )\n",
    "    return conn\n",
    "\n",
    "def main():\n",
    "    \"\"\"主程式\"\"\"\n",
    "    conn = create_connection()\n",
    "    if not conn:\n",
    "        print(\"無法連接到資料庫，程式結束\")\n",
    "        return\n",
    "    else:\n",
    "        print(\"成功連接到資料庫！\")\n",
    "        query = \"\"\"\n",
    "        SELECT count(*) AS \"筆數\"\n",
    "        FROM \"台鐵車站資訊\";\n",
    "        \"\"\"\n",
    "        print(\"執行查詢: \", query )\n",
    "        result = execute_query(conn,query)\n",
    "        print(\"所有車站\",result)\n",
    "        conn.close()\n",
    "\n",
    "if __name__ == \"__main__\":\n",
    "    main()"
   ]
  }
 ],
 "metadata": {
  "kernelspec": {
   "display_name": "Python 3",
   "language": "python",
   "name": "python3"
  },
  "language_info": {
   "name": "python",
   "version": "3.13.5"
  }
 },
 "nbformat": 4,
 "nbformat_minor": 5
}
